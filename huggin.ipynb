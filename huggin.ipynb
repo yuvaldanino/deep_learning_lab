{
 "cells": [
  {
   "cell_type": "markdown",
   "metadata": {},
   "source": [
    " link to see how to search yelp businesses https://docs.developer.yelp.com/reference/v3_business_search\n",
    " \n",
    " huggin face model which fit description based on labels https://huggingface.co/facebook/bart-large-mnli"
   ]
  },
  {
   "cell_type": "code",
   "execution_count": 4,
   "metadata": {},
   "outputs": [
    {
     "name": "stderr",
     "output_type": "stream",
     "text": [
      "Device set to use mps:0\n"
     ]
    },
    {
     "name": "stdout",
     "output_type": "stream",
     "text": [
      "{'sequence': 'A family-friendly restaurant serving authentic Mexican cuisine with tacos, burritos, and guacamole.', 'labels': ['Mexican', 'American', 'Indian', 'Chinese', 'Italian'], 'scores': [0.9930062890052795, 0.002916004043072462, 0.0014832622837275267, 0.0013019328471273184, 0.0012925817864015698]}\n"
     ]
    }
   ],
   "source": [
    "from transformers import pipeline\n",
    "\n",
    "# Test zero-shot classification\n",
    "classifier = pipeline(\"zero-shot-classification\", model=\"facebook/bart-large-mnli\")\n",
    "\n",
    "# Test description\n",
    "description = \"A family-friendly restaurant serving authentic Mexican cuisine with tacos, burritos, and guacamole.\"\n",
    "candidate_labels = [\"Italian\", \"Mexican\", \"Chinese\", \"American\", \"Indian\"]\n",
    "\n",
    "result = classifier(description, candidate_labels)\n",
    "print(result)\n"
   ]
  },
  {
   "cell_type": "code",
   "execution_count": 5,
   "metadata": {},
   "outputs": [
    {
     "name": "stdout",
     "output_type": "stream",
     "text": [
      "['Italian', 'American', 'Mexican', 'Chinese', 'Indian']\n",
      "[0.9825583696365356, 0.012527468614280224, 0.0018344406271353364, 0.0016075830208137631, 0.0014721446204930544]\n"
     ]
    },
    {
     "data": {
      "text/plain": [
       "'Italian'"
      ]
     },
     "execution_count": 5,
     "metadata": {},
     "output_type": "execute_result"
    }
   ],
   "source": [
    "# Restaurant description 2\n",
    "description_2 = \"An upscale restaurant offering pasta dishes, pizza, and fine wine.\"\n",
    "\n",
    "# Run the classification with the new description\n",
    "result_2 = classifier(description_2, candidate_labels)\n",
    "\n",
    "# Print the result\n",
    "print(result_2['labels'])\n",
    "print(result_2['scores'])\n",
    "\n",
    "(result_2['labels'][0])\n",
    "\n",
    "\n"
   ]
  },
  {
   "cell_type": "code",
   "execution_count": 9,
   "metadata": {},
   "outputs": [
    {
     "name": "stdout",
     "output_type": "stream",
     "text": [
      "['Italian', 'Mexican', 'American', 'Indian', 'Chinese']\n",
      "[0.5324529409408569, 0.43342292308807373, 0.01570483297109604, 0.009461922571063042, 0.008957406505942345]\n"
     ]
    },
    {
     "data": {
      "text/plain": [
       "'Italian'"
      ]
     },
     "execution_count": 9,
     "metadata": {},
     "output_type": "execute_result"
    }
   ],
   "source": [
    "# Restaurant description 2\n",
    "description_3 = \"An upscale restaurant offering Italian and Mexican dishes like pasta and tacos\"\n",
    "\n",
    "# Run the classification with the new description\n",
    "result_3 = classifier(description_3, candidate_labels)\n",
    "\n",
    "# Print the result\n",
    "print(result_3['labels'])\n",
    "print(result_3['scores'])\n",
    "\n",
    "(result_3['labels'][0])"
   ]
  }
 ],
 "metadata": {
  "kernelspec": {
   "display_name": "my_env",
   "language": "python",
   "name": "python3"
  },
  "language_info": {
   "codemirror_mode": {
    "name": "ipython",
    "version": 3
   },
   "file_extension": ".py",
   "mimetype": "text/x-python",
   "name": "python",
   "nbconvert_exporter": "python",
   "pygments_lexer": "ipython3",
   "version": "3.11.11"
  }
 },
 "nbformat": 4,
 "nbformat_minor": 2
}
