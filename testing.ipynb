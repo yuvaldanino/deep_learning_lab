{
 "cells": [
  {
   "cell_type": "code",
   "execution_count": 6,
   "metadata": {},
   "outputs": [
    {
     "name": "stdout",
     "output_type": "stream",
     "text": [
      "File created successfully.\n"
     ]
    }
   ],
   "source": [
    "#create a new file inside the 2025 folder on desktop called copilotTest.txt and write this is a testing and this works\n",
    "import os \n",
    "\n",
    "def create_file(file_name, content):\n",
    "   file_path = os.path.join(os.path.expanduser('/Users/yuvaldanino/Desktop/2025'), file_name)\n",
    "   try:\n",
    "      with open(file_path, 'w') as file:\n",
    "         file.write(content)\n",
    "      print(\"File created successfully.\")\n",
    "   except Exception as e:\n",
    "      print(\"Error:\", str(e))\n",
    "\n",
    "create_file(\"copilotTest.txt\", \"This is a testing and this works and second test works also \")\n"
   ]
  }
 ],
 "metadata": {
  "kernelspec": {
   "display_name": "Python 3",
   "language": "python",
   "name": "python3"
  },
  "language_info": {
   "codemirror_mode": {
    "name": "ipython",
    "version": 3
   },
   "file_extension": ".py",
   "mimetype": "text/x-python",
   "name": "python",
   "nbconvert_exporter": "python",
   "pygments_lexer": "ipython3",
   "version": "3.11.11"
  }
 },
 "nbformat": 4,
 "nbformat_minor": 2
}
